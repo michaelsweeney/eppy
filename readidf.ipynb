{
 "cells": [
  {
   "cell_type": "code",
   "execution_count": 1,
   "metadata": {},
   "outputs": [
    {
     "data": {
      "text/plain": [
       "'Just read the IDF'"
      ]
     },
     "execution_count": 1,
     "metadata": {},
     "output_type": "execute_result"
    }
   ],
   "source": [
    "\"\"\"Just read the IDF\"\"\""
   ]
  },
  {
   "cell_type": "code",
   "execution_count": 2,
   "metadata": {},
   "outputs": [],
   "source": [
    "from eppy import modeleditor\n",
    "from eppy.modeleditor import IDF\n",
    "iddfile = \"./eppy/resources/snippets/V8_9/building.idd\"\n",
    "fname1 = \"./eppy/resources/snippets/V8_9/building.idf\""
   ]
  },
  {
   "cell_type": "code",
   "execution_count": 3,
   "metadata": {},
   "outputs": [],
   "source": [
    "IDF.setiddname(iddfile)\n",
    "idf = IDF(fname1)"
   ]
  },
  {
   "cell_type": "code",
   "execution_count": 7,
   "metadata": {},
   "outputs": [],
   "source": [
    "building = idf.idfobjects['building'.upper()]"
   ]
  },
  {
   "cell_type": "code",
   "execution_count": 9,
   "metadata": {},
   "outputs": [
    {
     "data": {
      "text/plain": [
       "{u'BUILDING': [\n",
       " Building,\n",
       "     Bldg,                     !- Name\n",
       "     0.0,                      !- North Axis\n",
       "     Suburbs,                  !- Terrain\n",
       "     0.05,                     !- Loads Convergence Tolerance Value\n",
       "     0.05,                     !- Temperature Convergence Tolerance Value\n",
       "     MinimalShadowing,         !- Solar Distribution\n",
       "     30,                       !- Maximum Number of Warmup Days\n",
       "     6;                        !- Minimum Number of Warmup Days\n",
       " ]}"
      ]
     },
     "execution_count": 9,
     "metadata": {},
     "output_type": "execute_result"
    }
   ],
   "source": [
    "idf.idfobjects"
   ]
  },
  {
   "cell_type": "code",
   "execution_count": null,
   "metadata": {},
   "outputs": [],
   "source": []
  }
 ],
 "metadata": {
  "kernelspec": {
   "display_name": "Python 2",
   "language": "python",
   "name": "python2"
  },
  "language_info": {
   "codemirror_mode": {
    "name": "ipython",
    "version": 2
   },
   "file_extension": ".py",
   "mimetype": "text/x-python",
   "name": "python",
   "nbconvert_exporter": "python",
   "pygments_lexer": "ipython2",
   "version": "2.7.10"
  }
 },
 "nbformat": 4,
 "nbformat_minor": 2
}
