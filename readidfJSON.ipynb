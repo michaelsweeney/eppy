{
 "cells": [
  {
   "cell_type": "code",
   "execution_count": 1,
   "metadata": {},
   "outputs": [
    {
     "data": {
      "text/plain": [
       "'read the idfJSON file'"
      ]
     },
     "execution_count": 1,
     "metadata": {},
     "output_type": "execute_result"
    }
   ],
   "source": [
    "\"\"\"read the idfJSON file\"\"\""
   ]
  },
  {
   "cell_type": "code",
   "execution_count": 2,
   "metadata": {},
   "outputs": [],
   "source": [
    "import json\n",
    "# from collections import OrderedDict\n",
    "\n",
    "# data = json.loads('{\"foo\":1, \"bar\": 2}', object_pairs_hook=OrderedDict)\n",
    "fname = \"./eppy/resources/snippets/V8_9/a.epJSON\"\n",
    "aidf = json.load(open(fname, 'r'))\n",
    "# epjs = json.load(open(fname, 'r'), object_pairs_hook=OrderedDict)"
   ]
  },
  {
   "cell_type": "code",
   "execution_count": 3,
   "metadata": {},
   "outputs": [
    {
     "data": {
      "text/plain": [
       "[u'CoilSystem:Cooling:DX',\n",
       " u'ZoneHVAC:AirDistributionUnit',\n",
       " u'ZoneControl:Thermostat',\n",
       " u'Branch',\n",
       " u'ThermostatSetpoint:DualSetpoint',\n",
       " u'SetpointManager:Warmest',\n",
       " u'Table:TwoIndependentVariables',\n",
       " u'Fan:VariableVolume',\n",
       " u'Schedule:Compact',\n",
       " u'Site:GroundTemperature:BuildingSurface',\n",
       " u'RunPeriod',\n",
       " u'EnergyManagementSystem:OutputVariable',\n",
       " u'SurfaceConvectionAlgorithm:Outside',\n",
       " u'Output:Constructions',\n",
       " u'AvailabilityManager:Scheduled',\n",
       " u'HeatBalanceAlgorithm',\n",
       " u'EnergyManagementSystem:GlobalVariable',\n",
       " u'AirLoopHVAC:ZoneSplitter',\n",
       " u'AirLoopHVAC:ReturnPath',\n",
       " u'ZoneHVAC:Baseboard:Convective:Electric',\n",
       " u'Zone',\n",
       " u'OutputControl:Table:Style',\n",
       " u'ElectricEquipment:ITE:AirCooled',\n",
       " u'Material',\n",
       " u'Coil:Cooling:DX:SingleSpeed',\n",
       " u'SimulationControl',\n",
       " u'Construction',\n",
       " u'EnergyManagementSystem:Program',\n",
       " u'Output:VariableDictionary',\n",
       " u'Building',\n",
       " u'Site:Location',\n",
       " u'AirLoopHVAC:SupplyPath',\n",
       " u'ZoneHVAC:EquipmentList',\n",
       " u'GlobalGeometryRules',\n",
       " u'Material:NoMass',\n",
       " u'Output:Surfaces:Drawing',\n",
       " u'ZoneHVAC:EquipmentConnections',\n",
       " u'BranchList',\n",
       " u'AirTerminal:SingleDuct:VAV:NoReheat',\n",
       " u'ScheduleTypeLimits',\n",
       " u'Schedule:Constant',\n",
       " u'EnergyManagementSystem:ProgramCallingManager',\n",
       " u'Output:Meter:MeterFileOnly',\n",
       " u'Output:SQLite',\n",
       " u'Output:Table:SummaryReports',\n",
       " u'SizingPeriod:DesignDay',\n",
       " u'BuildingSurface:Detailed',\n",
       " u'EnergyManagementSystem:Sensor',\n",
       " u'SetpointManager:MixedAir',\n",
       " u'Curve:Quadratic',\n",
       " u'Timestep',\n",
       " u'AvailabilityManagerAssignmentList',\n",
       " u'AirLoopHVAC:ZoneMixer',\n",
       " u'Output:EnergyManagementSystem',\n",
       " u'Version',\n",
       " u'Output:Variable',\n",
       " u'Curve:Biquadratic',\n",
       " u'AirLoopHVAC',\n",
       " u'SurfaceConvectionAlgorithm:Inside']"
      ]
     },
     "execution_count": 3,
     "metadata": {},
     "output_type": "execute_result"
    }
   ],
   "source": [
    "aidf.keys()"
   ]
  },
  {
   "cell_type": "code",
   "execution_count": 4,
   "metadata": {},
   "outputs": [
    {
     "data": {
      "text/plain": [
       "{u'Zn001:Flr001': {u'construction_name': u'FLOOR',\n",
       "  u'idf_max_extensible_fields': 12,\n",
       "  u'idf_max_fields': 22,\n",
       "  u'idf_order': 27,\n",
       "  u'number_of_vertices': 4,\n",
       "  u'outside_boundary_condition': u'Surface',\n",
       "  u'outside_boundary_condition_object': u'Zn001:Flr001',\n",
       "  u'sun_exposure': u'NoSun',\n",
       "  u'surface_type': u'Floor',\n",
       "  u'vertices': [{u'vertex_x_coordinate': 15.24,\n",
       "    u'vertex_y_coordinate': 0.0,\n",
       "    u'vertex_z_coordinate': 0.0},\n",
       "   {u'vertex_x_coordinate': 0.0,\n",
       "    u'vertex_y_coordinate': 0.0,\n",
       "    u'vertex_z_coordinate': 0.0},\n",
       "   {u'vertex_x_coordinate': 0.0,\n",
       "    u'vertex_y_coordinate': 15.24,\n",
       "    u'vertex_z_coordinate': 0.0},\n",
       "   {u'vertex_x_coordinate': 15.24,\n",
       "    u'vertex_y_coordinate': 15.24,\n",
       "    u'vertex_z_coordinate': 0.0}],\n",
       "  u'view_factor_to_ground': 1.0,\n",
       "  u'wind_exposure': u'NoWind',\n",
       "  u'zone_name': u'Main Zone'},\n",
       " u'Zn001:Roof001': {u'construction_name': u'ROOF31',\n",
       "  u'idf_max_extensible_fields': 12,\n",
       "  u'idf_max_fields': 22,\n",
       "  u'idf_order': 28,\n",
       "  u'number_of_vertices': 4,\n",
       "  u'outside_boundary_condition': u'Outdoors',\n",
       "  u'sun_exposure': u'SunExposed',\n",
       "  u'surface_type': u'Roof',\n",
       "  u'vertices': [{u'vertex_x_coordinate': 0.0,\n",
       "    u'vertex_y_coordinate': 15.24,\n",
       "    u'vertex_z_coordinate': 4.572},\n",
       "   {u'vertex_x_coordinate': 0.0,\n",
       "    u'vertex_y_coordinate': 0.0,\n",
       "    u'vertex_z_coordinate': 4.572},\n",
       "   {u'vertex_x_coordinate': 15.24,\n",
       "    u'vertex_y_coordinate': 0.0,\n",
       "    u'vertex_z_coordinate': 4.572},\n",
       "   {u'vertex_x_coordinate': 15.24,\n",
       "    u'vertex_y_coordinate': 15.24,\n",
       "    u'vertex_z_coordinate': 4.572}],\n",
       "  u'view_factor_to_ground': 0,\n",
       "  u'wind_exposure': u'WindExposed',\n",
       "  u'zone_name': u'Main Zone'},\n",
       " u'Zn001:Wall001': {u'construction_name': u'R13WALL',\n",
       "  u'idf_max_extensible_fields': 12,\n",
       "  u'idf_max_fields': 22,\n",
       "  u'idf_order': 23,\n",
       "  u'number_of_vertices': 4,\n",
       "  u'outside_boundary_condition': u'Outdoors',\n",
       "  u'sun_exposure': u'SunExposed',\n",
       "  u'surface_type': u'Wall',\n",
       "  u'vertices': [{u'vertex_x_coordinate': 0,\n",
       "    u'vertex_y_coordinate': 0,\n",
       "    u'vertex_z_coordinate': 4.572},\n",
       "   {u'vertex_x_coordinate': 0,\n",
       "    u'vertex_y_coordinate': 0,\n",
       "    u'vertex_z_coordinate': 0},\n",
       "   {u'vertex_x_coordinate': 15.24,\n",
       "    u'vertex_y_coordinate': 0,\n",
       "    u'vertex_z_coordinate': 0},\n",
       "   {u'vertex_x_coordinate': 15.24,\n",
       "    u'vertex_y_coordinate': 0,\n",
       "    u'vertex_z_coordinate': 4.572}],\n",
       "  u'view_factor_to_ground': 0.5,\n",
       "  u'wind_exposure': u'WindExposed',\n",
       "  u'zone_name': u'Main Zone'},\n",
       " u'Zn001:Wall002': {u'construction_name': u'R13WALL',\n",
       "  u'idf_max_extensible_fields': 12,\n",
       "  u'idf_max_fields': 22,\n",
       "  u'idf_order': 24,\n",
       "  u'number_of_vertices': 4,\n",
       "  u'outside_boundary_condition': u'Outdoors',\n",
       "  u'sun_exposure': u'SunExposed',\n",
       "  u'surface_type': u'Wall',\n",
       "  u'vertices': [{u'vertex_x_coordinate': 15.24,\n",
       "    u'vertex_y_coordinate': 0,\n",
       "    u'vertex_z_coordinate': 4.572},\n",
       "   {u'vertex_x_coordinate': 15.24,\n",
       "    u'vertex_y_coordinate': 0,\n",
       "    u'vertex_z_coordinate': 0},\n",
       "   {u'vertex_x_coordinate': 15.24,\n",
       "    u'vertex_y_coordinate': 15.24,\n",
       "    u'vertex_z_coordinate': 0},\n",
       "   {u'vertex_x_coordinate': 15.24,\n",
       "    u'vertex_y_coordinate': 15.24,\n",
       "    u'vertex_z_coordinate': 4.572}],\n",
       "  u'view_factor_to_ground': 0.5,\n",
       "  u'wind_exposure': u'WindExposed',\n",
       "  u'zone_name': u'Main Zone'},\n",
       " u'Zn001:Wall003': {u'construction_name': u'R13WALL',\n",
       "  u'idf_max_extensible_fields': 12,\n",
       "  u'idf_max_fields': 22,\n",
       "  u'idf_order': 25,\n",
       "  u'number_of_vertices': 4,\n",
       "  u'outside_boundary_condition': u'Outdoors',\n",
       "  u'sun_exposure': u'SunExposed',\n",
       "  u'surface_type': u'Wall',\n",
       "  u'vertices': [{u'vertex_x_coordinate': 15.24,\n",
       "    u'vertex_y_coordinate': 15.24,\n",
       "    u'vertex_z_coordinate': 4.572},\n",
       "   {u'vertex_x_coordinate': 15.24,\n",
       "    u'vertex_y_coordinate': 15.24,\n",
       "    u'vertex_z_coordinate': 0},\n",
       "   {u'vertex_x_coordinate': 0,\n",
       "    u'vertex_y_coordinate': 15.24,\n",
       "    u'vertex_z_coordinate': 0},\n",
       "   {u'vertex_x_coordinate': 0,\n",
       "    u'vertex_y_coordinate': 15.24,\n",
       "    u'vertex_z_coordinate': 4.572}],\n",
       "  u'view_factor_to_ground': 0.5,\n",
       "  u'wind_exposure': u'WindExposed',\n",
       "  u'zone_name': u'Main Zone'},\n",
       " u'Zn001:Wall004': {u'construction_name': u'R13WALL',\n",
       "  u'idf_max_extensible_fields': 12,\n",
       "  u'idf_max_fields': 22,\n",
       "  u'idf_order': 26,\n",
       "  u'number_of_vertices': 4,\n",
       "  u'outside_boundary_condition': u'Outdoors',\n",
       "  u'sun_exposure': u'SunExposed',\n",
       "  u'surface_type': u'Wall',\n",
       "  u'vertices': [{u'vertex_x_coordinate': 0,\n",
       "    u'vertex_y_coordinate': 15.24,\n",
       "    u'vertex_z_coordinate': 4.572},\n",
       "   {u'vertex_x_coordinate': 0,\n",
       "    u'vertex_y_coordinate': 15.24,\n",
       "    u'vertex_z_coordinate': 0},\n",
       "   {u'vertex_x_coordinate': 0,\n",
       "    u'vertex_y_coordinate': 0,\n",
       "    u'vertex_z_coordinate': 0},\n",
       "   {u'vertex_x_coordinate': 0,\n",
       "    u'vertex_y_coordinate': 0,\n",
       "    u'vertex_z_coordinate': 4.572}],\n",
       "  u'view_factor_to_ground': 0.5,\n",
       "  u'wind_exposure': u'WindExposed',\n",
       "  u'zone_name': u'Main Zone'}}"
      ]
     },
     "execution_count": 4,
     "metadata": {},
     "output_type": "execute_result"
    }
   ],
   "source": [
    "aidf[\"BuildingSurface:Detailed\"]"
   ]
  },
  {
   "cell_type": "code",
   "execution_count": 7,
   "metadata": {},
   "outputs": [],
   "source": [
    "from munch import Munch\n",
    "from munch import DefaultMunch\n"
   ]
  },
  {
   "cell_type": "code",
   "execution_count": 8,
   "metadata": {},
   "outputs": [],
   "source": [
    "mch = DefaultMunch.fromDict(aidf)"
   ]
  },
  {
   "cell_type": "code",
   "execution_count": 9,
   "metadata": {},
   "outputs": [],
   "source": [
    "crac = mch.AirLoopHVAC[\"CRAC system\"]"
   ]
  },
  {
   "cell_type": "code",
   "execution_count": 11,
   "metadata": {},
   "outputs": [
    {
     "data": {
      "text/plain": [
       "u'Air Loop Branches'"
      ]
     },
     "execution_count": 11,
     "metadata": {},
     "output_type": "execute_result"
    }
   ],
   "source": [
    "crac.branch_list_name"
   ]
  },
  {
   "cell_type": "code",
   "execution_count": 12,
   "metadata": {},
   "outputs": [
    {
     "data": {
      "text/plain": [
       "[u'AirLoopHVAC',\n",
       " u'AirLoopHVAC:ReturnPath',\n",
       " u'AirLoopHVAC:SupplyPath',\n",
       " u'AirLoopHVAC:ZoneMixer',\n",
       " u'AirLoopHVAC:ZoneSplitter',\n",
       " u'AirTerminal:SingleDuct:VAV:NoReheat',\n",
       " u'AvailabilityManager:Scheduled',\n",
       " u'AvailabilityManagerAssignmentList',\n",
       " u'Branch',\n",
       " u'BranchList',\n",
       " u'Building',\n",
       " u'BuildingSurface:Detailed',\n",
       " u'Coil:Cooling:DX:SingleSpeed',\n",
       " u'CoilSystem:Cooling:DX',\n",
       " u'Construction',\n",
       " u'Curve:Biquadratic',\n",
       " u'Curve:Quadratic',\n",
       " u'ElectricEquipment:ITE:AirCooled',\n",
       " u'EnergyManagementSystem:GlobalVariable',\n",
       " u'EnergyManagementSystem:OutputVariable',\n",
       " u'EnergyManagementSystem:Program',\n",
       " u'EnergyManagementSystem:ProgramCallingManager',\n",
       " u'EnergyManagementSystem:Sensor',\n",
       " u'Fan:VariableVolume',\n",
       " u'GlobalGeometryRules',\n",
       " u'HeatBalanceAlgorithm',\n",
       " u'Material',\n",
       " u'Material:NoMass',\n",
       " u'Output:Constructions',\n",
       " u'Output:EnergyManagementSystem',\n",
       " u'Output:Meter:MeterFileOnly',\n",
       " u'Output:SQLite',\n",
       " u'Output:Surfaces:Drawing',\n",
       " u'Output:Table:SummaryReports',\n",
       " u'Output:Variable',\n",
       " u'Output:VariableDictionary',\n",
       " u'OutputControl:Table:Style',\n",
       " u'RunPeriod',\n",
       " u'Schedule:Compact',\n",
       " u'Schedule:Constant',\n",
       " u'ScheduleTypeLimits',\n",
       " u'SetpointManager:MixedAir',\n",
       " u'SetpointManager:Warmest',\n",
       " u'SimulationControl',\n",
       " u'Site:GroundTemperature:BuildingSurface',\n",
       " u'Site:Location',\n",
       " u'SizingPeriod:DesignDay',\n",
       " u'SurfaceConvectionAlgorithm:Inside',\n",
       " u'SurfaceConvectionAlgorithm:Outside',\n",
       " u'Table:TwoIndependentVariables',\n",
       " u'ThermostatSetpoint:DualSetpoint',\n",
       " u'Timestep',\n",
       " u'Version',\n",
       " u'Zone',\n",
       " u'ZoneControl:Thermostat',\n",
       " u'ZoneHVAC:AirDistributionUnit',\n",
       " u'ZoneHVAC:Baseboard:Convective:Electric',\n",
       " u'ZoneHVAC:EquipmentConnections',\n",
       " u'ZoneHVAC:EquipmentList']"
      ]
     },
     "execution_count": 12,
     "metadata": {},
     "output_type": "execute_result"
    }
   ],
   "source": [
    "keys = aidf.keys()\n",
    "keys.sort()\n",
    "keys"
   ]
  },
  {
   "cell_type": "code",
   "execution_count": 13,
   "metadata": {},
   "outputs": [],
   "source": [
    "branches = mch.BranchList[\"Air Loop Branches\"]"
   ]
  },
  {
   "cell_type": "code",
   "execution_count": 17,
   "metadata": {},
   "outputs": [
    {
     "data": {
      "text/plain": [
       "u'Air Loop Main Branch'"
      ]
     },
     "execution_count": 17,
     "metadata": {},
     "output_type": "execute_result"
    }
   ],
   "source": [
    "branches.branches[0].branch_name"
   ]
  },
  {
   "cell_type": "code",
   "execution_count": 20,
   "metadata": {},
   "outputs": [
    {
     "data": {
      "text/plain": [
       "34"
      ]
     },
     "execution_count": 20,
     "metadata": {},
     "output_type": "execute_result"
    }
   ],
   "source": [
    "branches.idf_order"
   ]
  },
  {
   "cell_type": "code",
   "execution_count": 21,
   "metadata": {},
   "outputs": [
    {
     "data": {
      "text/plain": [
       "[u'branches', u'idf_max_extensible_fields', u'idf_max_fields', u'idf_order']"
      ]
     },
     "execution_count": 21,
     "metadata": {},
     "output_type": "execute_result"
    }
   ],
   "source": [
    "mch.BranchList[\"Air Loop Branches\"].keys()"
   ]
  },
  {
   "cell_type": "code",
   "execution_count": null,
   "metadata": {},
   "outputs": [],
   "source": []
  }
 ],
 "metadata": {
  "kernelspec": {
   "display_name": "Python 2",
   "language": "python",
   "name": "python2"
  },
  "language_info": {
   "codemirror_mode": {
    "name": "ipython",
    "version": 2
   },
   "file_extension": ".py",
   "mimetype": "text/x-python",
   "name": "python",
   "nbconvert_exporter": "python",
   "pygments_lexer": "ipython2",
   "version": "2.7.10"
  }
 },
 "nbformat": 4,
 "nbformat_minor": 2
}
