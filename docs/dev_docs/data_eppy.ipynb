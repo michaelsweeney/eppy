{
 "metadata": {
  "name": ""
 },
 "nbformat": 3,
 "nbformat_minor": 0,
 "worksheets": [
  {
   "cells": [
    {
     "cell_type": "heading",
     "level": 1,
     "metadata": {},
     "source": [
      "Underlying Data Structure of eppy"
     ]
    },
    {
     "cell_type": "markdown",
     "metadata": {},
     "source": [
      "As described in previous sections, eppy was built on EplusInterface"
     ]
    },
    {
     "cell_type": "markdown",
     "metadata": {},
     "source": [
      "Let us open a small **idf** file to explore the data structure"
     ]
    },
    {
     "cell_type": "code",
     "collapsed": false,
     "input": [
      "# you would normaly install eppy by doing\n",
      "# python setup.py install\n",
      "# or\n",
      "# pip install eppy\n",
      "# or\n",
      "# easy_install eppy\n",
      "\n",
      "# if you have not done so, uncomment the following three lines\n",
      "import sys\n",
      "# pathnameto_eppy = 'c:/eppy'\n",
      "pathnameto_eppy = '../../../'\n",
      "sys.path.append(pathnameto_eppy)"
     ],
     "language": "python",
     "metadata": {},
     "outputs": [],
     "prompt_number": 1
    },
    {
     "cell_type": "code",
     "collapsed": false,
     "input": [
      "from eppy import modeleditor\n",
      "from eppy.modeleditor import IDF\n",
      "iddfile = \"../../../eppy/resources/iddfiles/Energy+V7_2_0.idd\"\n",
      "fname1 = \"../../../eppy/resources/idffiles/V_7_2/dev1.idf\"\n",
      "\n",
      "IDF.setiddname(iddfile)\n",
      "idf1 = IDF(fname1)\n",
      "idf1.printidf()"
     ],
     "language": "python",
     "metadata": {},
     "outputs": [
      {
       "output_type": "stream",
       "stream": "stdout",
       "text": [
        "\n",
        "VERSION,                  \n",
        "    7.3;                      !- Version Identifier\n",
        "\n",
        "SIMULATIONCONTROL,        \n",
        "    Yes,                      !- Do Zone Sizing Calculation\n",
        "    Yes,                      !- Do System Sizing Calculation\n",
        "    Yes,                      !- Do Plant Sizing Calculation\n",
        "    No,                       !- Run Simulation for Sizing Periods\n",
        "    Yes;                      !- Run Simulation for Weather File Run Periods\n",
        "\n",
        "BUILDING,                 \n",
        "    Empire State Building,    !- Name\n",
        "    30.0,                     !- North Axis\n",
        "    City,                     !- Terrain\n",
        "    0.04,                     !- Loads Convergence Tolerance Value\n",
        "    0.4,                      !- Temperature Convergence Tolerance Value\n",
        "    FullExterior,             !- Solar Distribution\n",
        "    25,                       !- Maximum Number of Warmup Days\n",
        "    6;                        !- Minimum Number of Warmup Days\n",
        "\n",
        "SITE:LOCATION,            \n",
        "    CHICAGO_IL_USA TMY2-94846,    !- Name\n",
        "    41.78,                    !- Latitude\n",
        "    -87.75,                   !- Longitude\n",
        "    -6.0,                     !- Time Zone\n",
        "    190.0;                    !- Elevation\n",
        "\n",
        "MATERIAL:AIRGAP,          \n",
        "    F04 Wall air space resistance,    !- Name\n",
        "    0.15;                     !- Thermal Resistance\n",
        "\n",
        "MATERIAL:AIRGAP,          \n",
        "    F05 Ceiling air space resistance,    !- Name\n",
        "    0.18;                     !- Thermal Resistance\n",
        "\n"
       ]
      }
     ],
     "prompt_number": 2
    },
    {
     "cell_type": "heading",
     "level": 2,
     "metadata": {},
     "source": [
      "Original Data Structure in EPlusInterface"
     ]
    },
    {
     "cell_type": "markdown",
     "metadata": {},
     "source": [
      "The original data structure in EPlusInterface was stupidly simple and robust. In fact attributes **stupidly simple** and **robust** seem to go together. Eppy evolved in such a way that this data structure is still retained. The rest of eppy is simply [syntactic sugar](http://en.wikipedia.org/wiki/Syntactic_sugar) for this data structure.\n",
      "\n",
      "from: https://www.princeton.edu/~achaney/tmve/wiki100k/docs/Syntactic_sugar.html *\"Syntactic sugar is a computer science term that refers to syntax within a programming language that is designed to make things easier to read or to express, while alternative ways of expressing them exist.\n",
      "Syntactic sugar\"*\n",
      "\n",
      "Let us take a look at this data structure. If we open an idf file with eppy we can explore the original data structure that comes from EPlusInterface.\n",
      "\n",
      "**Note** The variable names are not very intuitive at this level. I did not know what I was doing when I wrote this code and now we are stuck with it\n",
      "\n",
      "There are three varaibles that hold all the data we need. They are:\n",
      "\n",
      "- `idf1.model.dtls`\n",
      "- `idf1.model.dt` \n",
      "- `idf1.idd_info`"
     ]
    },
    {
     "cell_type": "code",
     "collapsed": false,
     "input": [
      "dtls = idf1.model.dtls # names of all the idf objects\n",
      "dt = idf1.model.dt # the idf model\n",
      "idd_info = idf1.idd_info # all the idd data"
     ],
     "language": "python",
     "metadata": {},
     "outputs": [],
     "prompt_number": 3
    },
    {
     "cell_type": "heading",
     "level": 3,
     "metadata": {},
     "source": [
      "idf1.model.dtls - Overview"
     ]
    },
    {
     "cell_type": "code",
     "collapsed": false,
     "input": [
      "dtls = idf1.model.dtls # names of all the idf objects\n",
      "print type(dtls)"
     ],
     "language": "python",
     "metadata": {},
     "outputs": [
      {
       "output_type": "stream",
       "stream": "stdout",
       "text": [
        "<type 'list'>\n"
       ]
      }
     ],
     "prompt_number": 4
    },
    {
     "cell_type": "code",
     "collapsed": false,
     "input": [
      "# dtls is a list\n",
      "print dtls[:10] # print the first ten items"
     ],
     "language": "python",
     "metadata": {},
     "outputs": [
      {
       "output_type": "stream",
       "stream": "stdout",
       "text": [
        "['LEAD INPUT', 'SIMULATION DATA', 'VERSION', 'SIMULATIONCONTROL', 'BUILDING', 'SHADOWCALCULATION', 'SURFACECONVECTIONALGORITHM:INSIDE', 'SURFACECONVECTIONALGORITHM:OUTSIDE', 'HEATBALANCEALGORITHM', 'HEATBALANCESETTINGS:CONDUCTIONFINITEDIFFERENCE']\n"
       ]
      }
     ],
     "prompt_number": 5
    },
    {
     "cell_type": "code",
     "collapsed": false,
     "input": [
      "print len(dtls) # print the numer of items in the list"
     ],
     "language": "python",
     "metadata": {},
     "outputs": [
      {
       "output_type": "stream",
       "stream": "stdout",
       "text": [
        "683\n"
       ]
      }
     ],
     "prompt_number": 6
    },
    {
     "cell_type": "markdown",
     "metadata": {},
     "source": [
      "Couple of points to note about `dtls`:\n",
      "\n",
      "- **dtls** is a list of all the names of the Energyplus objects.\n",
      "- This list is extracted from the the **idd** file\n",
      "- the list is in the same order as the objects in the **idd** file"
     ]
    },
    {
     "cell_type": "heading",
     "level": 3,
     "metadata": {},
     "source": [
      "idf1.model.dt - Overview"
     ]
    },
    {
     "cell_type": "code",
     "collapsed": false,
     "input": [
      "dt = idf1.model.dt # the idf model\n",
      "print type(dt)"
     ],
     "language": "python",
     "metadata": {},
     "outputs": [
      {
       "output_type": "stream",
       "stream": "stdout",
       "text": [
        "<type 'dict'>\n"
       ]
      }
     ],
     "prompt_number": 7
    },
    {
     "cell_type": "code",
     "collapsed": false,
     "input": [
      "# print 10 of the keys\n",
      "print dt.keys()[:10]"
     ],
     "language": "python",
     "metadata": {},
     "outputs": [
      {
       "output_type": "stream",
       "stream": "stdout",
       "text": [
        "['ZONEHVAC:OUTDOORAIRUNIT', 'TABLE:TWOINDEPENDENTVARIABLES', 'ENERGYMANAGEMENTSYSTEM:INTERNALVARIABLE', 'AVAILABILITYMANAGER:NIGHTCYCLE', 'GROUNDHEATTRANSFER:SLAB:BLDGPROPS', 'GENERATOR:MICROTURBINE', 'SHADING:BUILDING:DETAILED', 'EVAPORATIVECOOLER:INDIRECT:RESEARCHSPECIAL', 'ZONEHVAC:PACKAGEDTERMINALAIRCONDITIONER', 'CONSTRUCTION:WINDOWDATAFILE']\n"
       ]
      }
     ],
     "prompt_number": 9
    },
    {
     "cell_type": "code",
     "collapsed": false,
     "input": [
      "# dt is a dict\n",
      "number_of_keys = len(dt.keys())\n",
      "print number_of_keys"
     ],
     "language": "python",
     "metadata": {},
     "outputs": [
      {
       "output_type": "stream",
       "stream": "stdout",
       "text": [
        "683\n"
       ]
      }
     ],
     "prompt_number": 8
    },
    {
     "cell_type": "markdown",
     "metadata": {},
     "source": [
      "- The keys of **dt** are names of the objects (note that they are in capitals)\n",
      "- Items in a python dict are unordered. So the keys may be in any order\n",
      "- **dtls** will give us these names in the same order as they are in the idd file.\n",
      "- so use **dtls** if you want the keys in an order\n",
      "\n",
      "We'll look at **dt** in further detail later"
     ]
    },
    {
     "cell_type": "heading",
     "level": 3,
     "metadata": {},
     "source": [
      "idf1.idd_info - Overview"
     ]
    },
    {
     "cell_type": "code",
     "collapsed": false,
     "input": [
      "idd_info = idf1.idd_info # all the idd data\n",
      "print type(idd_info)"
     ],
     "language": "python",
     "metadata": {},
     "outputs": [
      {
       "output_type": "stream",
       "stream": "stdout",
       "text": [
        "<type 'list'>\n"
       ]
      }
     ],
     "prompt_number": 10
    },
    {
     "cell_type": "code",
     "collapsed": false,
     "input": [
      "print len(idd_info) # number of items in the list"
     ],
     "language": "python",
     "metadata": {},
     "outputs": [
      {
       "output_type": "stream",
       "stream": "stdout",
       "text": [
        "683\n"
       ]
      }
     ],
     "prompt_number": 11
    },
    {
     "cell_type": "code",
     "collapsed": false,
     "input": [
      "# print the first three items\n",
      "idd_info[:3]"
     ],
     "language": "python",
     "metadata": {},
     "outputs": [
      {
       "metadata": {},
       "output_type": "pyout",
       "prompt_number": 41,
       "text": [
        "[[{}],\n",
        " [{}],\n",
        " [{'format': ['singleLine'], 'unique-object': ['']},\n",
        "  {'default': ['7.0'],\n",
        "   'field': ['Version Identifier'],\n",
        "   'required-field': ['']}]]"
       ]
      }
     ],
     "prompt_number": 41
    },
    {
     "cell_type": "code",
     "collapsed": false,
     "input": [
      "# print the first three items in seperate lines\n",
      "for i, item in enumerate(idd_info[:3]):\n",
      "    print \"%s. %s\" % (i, item)"
     ],
     "language": "python",
     "metadata": {},
     "outputs": [
      {
       "output_type": "stream",
       "stream": "stdout",
       "text": [
        "0. [{}]\n",
        "1. [{}]\n",
        "2. [{'unique-object': [''], 'format': ['singleLine']}, {'default': ['7.0'], 'field': ['Version Identifier'], 'required-field': ['']}]\n"
       ]
      }
     ],
     "prompt_number": 40
    },
    {
     "cell_type": "markdown",
     "metadata": {},
     "source": [
      "That does not make much sense. Below is the first 3 items from the idd file ::"
     ]
    },
    {
     "cell_type": "raw",
     "metadata": {},
     "source": [
      "    Lead Input;\n",
      "    \n",
      "    Simulation Data;\n",
      "    \n",
      "    \\group Simulation Parameters\n",
      "    \n",
      "    Version,\n",
      "          \\unique-object\n",
      "          \\format singleLine\n",
      "      A1 ; \\field Version Identifier\n",
      "          \\required-field\n",
      "          \\default 7.0\n"
     ]
    },
    {
     "cell_type": "markdown",
     "metadata": {},
     "source": [
      "- If you compare the text file with the sturcture of idd_info, you can start to see the similarities\n",
      "- Note that the idd_info does not have the object name.\n",
      "- This was an unfortunate design decision that we are stuck with now :-(. \n",
      "- We need to jump through some hoops to get to an item in idd_info"
     ]
    },
    {
     "cell_type": "code",
     "collapsed": false,
     "input": [
      "# the object \"VERSION\" is the third item in idd_info\n",
      "# to get to \"VERSION\" we need to find it's location in the list\n",
      "# we use \"dtls\" to do this\n",
      "location_of_version = dtls.index(\"version\".upper())\n",
      "print location_of_version"
     ],
     "language": "python",
     "metadata": {},
     "outputs": [
      {
       "output_type": "stream",
       "stream": "stdout",
       "text": [
        "2\n"
       ]
      }
     ],
     "prompt_number": 37
    },
    {
     "cell_type": "code",
     "collapsed": false,
     "input": [
      "# print idd_info of \"VERSION\"\n",
      "idd_info[location_of_version]"
     ],
     "language": "python",
     "metadata": {},
     "outputs": [
      {
       "metadata": {},
       "output_type": "pyout",
       "prompt_number": 42,
       "text": [
        "[{'format': ['singleLine'], 'unique-object': ['']},\n",
        " {'default': ['7.0'], 'field': ['Version Identifier'], 'required-field': ['']}]"
       ]
      }
     ],
     "prompt_number": 42
    },
    {
     "cell_type": "markdown",
     "metadata": {},
     "source": [
      "**NOTE:** \n",
      "\n",
      "- the idd file is very large and uses a lot of memory when pulled into idd_info\n",
      "- only one copy of idd_info is kept when eppy is running. \n",
      "- This is the reason, eppy throws an exception when you try to set the idd file when it has already been set"
     ]
    },
    {
     "cell_type": "heading",
     "level": 3,
     "metadata": {},
     "source": [
      "idf1.model.dt - in detail"
     ]
    },
    {
     "cell_type": "markdown",
     "metadata": {},
     "source": [
      "Let us look at a specific object, say **MATERIAL:AIRGAP** in idf1.model.dt"
     ]
    },
    {
     "cell_type": "code",
     "collapsed": false,
     "input": [
      "dt = idf1.model.dt"
     ],
     "language": "python",
     "metadata": {},
     "outputs": [],
     "prompt_number": 15
    },
    {
     "cell_type": "code",
     "collapsed": false,
     "input": [
      "airgaps = dt['MATERIAL:AIRGAP'.upper()]\n",
      "print type(airgaps)"
     ],
     "language": "python",
     "metadata": {},
     "outputs": [
      {
       "output_type": "stream",
       "stream": "stdout",
       "text": [
        "<type 'list'>\n"
       ]
      }
     ],
     "prompt_number": 23
    },
    {
     "cell_type": "code",
     "collapsed": false,
     "input": [
      "airgaps"
     ],
     "language": "python",
     "metadata": {},
     "outputs": [
      {
       "metadata": {},
       "output_type": "pyout",
       "prompt_number": 43,
       "text": [
        "[['MATERIAL:AIRGAP', 'F04 Wall air space resistance', 0.15],\n",
        " ['MATERIAL:AIRGAP', 'F05 Ceiling air space resistance', 0.18]]"
       ]
      }
     ],
     "prompt_number": 43
    },
    {
     "cell_type": "markdown",
     "metadata": {},
     "source": [
      "A snippet of the **idf** text file shows this ::"
     ]
    },
    {
     "cell_type": "raw",
     "metadata": {},
     "source": [
      "    MATERIAL:AIRGAP,\n",
      "        F04 Wall air space resistance,    !- Name\n",
      "        0.15;                     !- Thermal Resistance\n",
      "    \n",
      "    MATERIAL:AIRGAP,\n",
      "        F05 Ceiling air space resistance,    !- Name\n",
      "        0.18;                     !- Thermal Resistance"
     ]
    },
    {
     "cell_type": "markdown",
     "metadata": {},
     "source": [
      "Notice the following things about idf1.model.dt:\n",
      "\n",
      "- The idf model is held within a dict. \n",
      "- the keys in the dict are names of the IDF objects in caps, such as BUILDING, VERSION, CONSTRUCTION, MATERIAL:AIRGAP etc.\n",
      "- The values in the dict are lists\n",
      "- the list contains lists. This means that **airgaps** can contain more than one airgap.\n",
      "- So airgaps = [airgap1, airgap2, ... ].\n",
      "- where, airgaps1 = [Type_of_Object, field1, field2, field3, .... ]\n",
      "- In airgaps1, all types have been converted. Note that \"Thermal Resistance\" is a float and not a string"
     ]
    },
    {
     "cell_type": "markdown",
     "metadata": {},
     "source": [
      "What about an Energyplus object that does not exist in the idf file ?"
     ]
    },
    {
     "cell_type": "code",
     "collapsed": false,
     "input": [
      "roofs = dt['ROOF']\n",
      "print roofs"
     ],
     "language": "python",
     "metadata": {},
     "outputs": [
      {
       "output_type": "stream",
       "stream": "stdout",
       "text": [
        "[]\n"
       ]
      }
     ],
     "prompt_number": 30
    },
    {
     "cell_type": "markdown",
     "metadata": {},
     "source": [
      "You get an empty list, meaning there are no roof items within roofs"
     ]
    },
    {
     "cell_type": "heading",
     "level": 3,
     "metadata": {},
     "source": [
      "idf1.idd_info - in detail"
     ]
    },
    {
     "cell_type": "markdown",
     "metadata": {},
     "source": [
      "Let us find the idd_info for airgaps"
     ]
    },
    {
     "cell_type": "code",
     "collapsed": false,
     "input": [
      "location_of_airgaps = dtls.index(\"material:airgap\".upper())\n",
      "print location_of_airgaps"
     ],
     "language": "python",
     "metadata": {},
     "outputs": [
      {
       "output_type": "stream",
       "stream": "stdout",
       "text": [
        "50\n"
       ]
      }
     ],
     "prompt_number": 44
    },
    {
     "cell_type": "code",
     "collapsed": false,
     "input": [
      "idd_airgaps = idd_info[location_of_airgaps]\n",
      "idd_airgaps"
     ],
     "language": "python",
     "metadata": {},
     "outputs": [
      {
       "metadata": {},
       "output_type": "pyout",
       "prompt_number": 45,
       "text": [
        "[{'memo': ['Air Space in Opaque Construction'], 'min-fields': ['2']},\n",
        " {'field': ['Name'],\n",
        "  'reference': ['MaterialName'],\n",
        "  'required-field': [''],\n",
        "  'type': ['alpha']},\n",
        " {'field': ['Thermal Resistance'],\n",
        "  'minimum>': ['0'],\n",
        "  'type': ['real'],\n",
        "  'units': ['m2-K/W']}]"
       ]
      }
     ],
     "prompt_number": 45
    },
    {
     "cell_type": "markdown",
     "metadata": {},
     "source": [
      "Compare to text in idd file::"
     ]
    },
    {
     "cell_type": "raw",
     "metadata": {},
     "source": [
      "    Material:AirGap,\n",
      "           \\min-fields 2\n",
      "           \\memo Air Space in Opaque Construction\n",
      "      A1 , \\field Name\n",
      "           \\required-field\n",
      "           \\type alpha\n",
      "           \\reference MaterialName\n",
      "      N1 ; \\field Thermal Resistance\n",
      "           \\units m2-K/W\n",
      "           \\type real\n",
      "           \\minimum> 0"
     ]
    },
    {
     "cell_type": "markdown",
     "metadata": {},
     "source": [
      "- idd_airgaps gives details about each field\n",
      "- the last field N1 says that *type = real*\n",
      "- This tells us that the text value coming from the the test file has to be converted to a float"
     ]
    },
    {
     "cell_type": "heading",
     "level": 2,
     "metadata": {},
     "source": [
      "Syntactic Sugar"
     ]
    },
    {
     "cell_type": "markdown",
     "metadata": {},
     "source": [
      "from: https://www.princeton.edu/~achaney/tmve/wiki100k/docs/Syntactic_sugar.html *\"Syntactic sugar is a computer science term that refers to syntax within a programming language that is designed to make things easier to read or to express, while alternative ways of expressing them exist\"*\n",
      "\n",
      "Wikipedia article on [syntactic sugar](http://en.wikipedia.org/wiki/Syntactic_sugar)\n",
      "\n",
      "**All the rest of the code in eppy is simply syntactic sugar over the data structure in model.dtls, model.dt and idd_info**\n",
      "\n",
      "Of course, the above statement is a gross exageration, but it gives you a basis for understanding the code that comes later. At the end of the day, any further code is simply a means for changing the data within model.dt. And you need to access the data within model.dtls and idd_info to do so."
     ]
    },
    {
     "cell_type": "heading",
     "level": 3,
     "metadata": {},
     "source": [
      "Bunch"
     ]
    },
    {
     "cell_type": "markdown",
     "metadata": {},
     "source": [
      "Bunch is a great library that subclasses dict. You can see it at:\n",
      "\n",
      "- https://pypi.python.org/pypi/bunch/1.0.1\n",
      "- https://github.com/dsc/bunch\n",
      "\n",
      "Let us first take a look at a dict"
     ]
    },
    {
     "cell_type": "code",
     "collapsed": false,
     "input": [
      "adict = {'a':1, 'b':2, 'c':3}\n",
      "adict"
     ],
     "language": "python",
     "metadata": {},
     "outputs": [
      {
       "metadata": {},
       "output_type": "pyout",
       "prompt_number": 56,
       "text": [
        "{'a': 1, 'b': 2, 'c': 3}"
       ]
      }
     ],
     "prompt_number": 56
    },
    {
     "cell_type": "code",
     "collapsed": false,
     "input": [
      "# one would access the values in this dict by:\n",
      "print adict\n",
      "print adict['a']\n",
      "print adict['b']\n",
      "print adict['c']"
     ],
     "language": "python",
     "metadata": {},
     "outputs": [
      {
       "output_type": "stream",
       "stream": "stdout",
       "text": [
        "{'a': 1, 'c': 3, 'b': 2}\n",
        "1\n",
        "2\n",
        "3\n"
       ]
      }
     ],
     "prompt_number": 57
    },
    {
     "cell_type": "markdown",
     "metadata": {},
     "source": [
      "Bunch allows us to do this with a lot less typing"
     ]
    },
    {
     "cell_type": "code",
     "collapsed": false,
     "input": [
      "from bunch import Bunch\n",
      "bunchdict = Bunch(adict)\n",
      "print bunchdict\n",
      "print bunchdict.a\n",
      "print bunchdict.b\n",
      "print bunchdict.c"
     ],
     "language": "python",
     "metadata": {},
     "outputs": [
      {
       "output_type": "stream",
       "stream": "stdout",
       "text": [
        "Bunch(a=1, b=2, c=3)\n",
        "1\n",
        "2\n",
        "3\n"
       ]
      }
     ],
     "prompt_number": 58
    },
    {
     "cell_type": "markdown",
     "metadata": {},
     "source": [
      "Let us take a look at variable **airgaps** from the previous section."
     ]
    },
    {
     "cell_type": "code",
     "collapsed": false,
     "input": [
      "airgaps"
     ],
     "language": "python",
     "metadata": {},
     "outputs": [
      {
       "metadata": {},
       "output_type": "pyout",
       "prompt_number": 59,
       "text": [
        "[['MATERIAL:AIRGAP', 'F04 Wall air space resistance', 0.15],\n",
        " ['MATERIAL:AIRGAP', 'F05 Ceiling air space resistance', 0.18]]"
       ]
      }
     ],
     "prompt_number": 59
    },
    {
     "cell_type": "code",
     "collapsed": false,
     "input": [
      "airgap1, airgap2 = airgaps[0], airgaps[1]"
     ],
     "language": "python",
     "metadata": {},
     "outputs": [],
     "prompt_number": 60
    },
    {
     "cell_type": "code",
     "collapsed": false,
     "input": [
      "airgap1"
     ],
     "language": "python",
     "metadata": {},
     "outputs": [
      {
       "metadata": {},
       "output_type": "pyout",
       "prompt_number": 61,
       "text": [
        "['MATERIAL:AIRGAP', 'F04 Wall air space resistance', 0.15]"
       ]
      }
     ],
     "prompt_number": 61
    },
    {
     "cell_type": "markdown",
     "metadata": {},
     "source": [
      "We are going to subclass bunch so that we can do the following to **airgap1** from the previous section:\n",
      "\n",
      "- airgap1.Name\n",
      "- airgap1.Thermal_Resistance\n",
      "\n",
      "to remind you, the text file we are reading looks like this::"
     ]
    },
    {
     "cell_type": "raw",
     "metadata": {},
     "source": [
      "    MATERIAL:AIRGAP,          \n",
      "        F04 Wall air space resistance,    !- Name\n",
      "        0.15;                             !- Thermal Resistance\n"
     ]
    },
    {
     "cell_type": "markdown",
     "metadata": {},
     "source": [
      "- We are using the field names that come from the idd file\n",
      "- A space and other illegal (illegal for python) characters are replaced by an underscore"
     ]
    },
    {
     "cell_type": "markdown",
     "metadata": {},
     "source": [
      "It is a little tricky tring to use bunch with airgap, because:\n",
      "\n",
      "- airgap is a list\n",
      "- but bunch works on dicts\n",
      "\n",
      "So we do it in the following way:\n",
      "\n",
      "- we make a new Bunch from the **airgap** list.\n",
      "- The Bunch is made by by doing airgap1 = Bunch( {\"Name\" : \"F04 Wall air space resistance\", \"Thermal_Resistance\" : 0.15} )\n",
      "- This will allow us to use the dot notation we see in bunch\n",
      "- Of course if we make changes in this Bunch, the **airgap** list does not change\n",
      "- Ideally we would like to see the changes reflected in the **airgap** list\n",
      "- We subclass Bunch as EpBunch. EpBunch is designed so that changes in EpBunch will make changes to the **airgap** list\n",
      "\n",
      "*Note:*  Some simplifications were made in the explanations above. So take it with a pinch of salt :-)\n",
      "\n"
     ]
    },
    {
     "cell_type": "heading",
     "level": 3,
     "metadata": {},
     "source": [
      "EpBunch"
     ]
    },
    {
     "cell_type": "markdown",
     "metadata": {},
     "source": [
      "The code of EpBunch is in eppy/bunch_subclass.py. If you look at the code you will see The subclassing happening in the following manner:\n",
      "\n",
      "- Bunch -> EpBunch1 -> EpBunch2 -> ..... -> EpBunch5 , where \"Bunch -> EpBunch\" means \"EpBunch subclassed from Bunch\"\n",
      "- then EpBunch = EpBunch5\n",
      "\n",
      "**Question:** Are you demented ? Why don't you just subclass Bunch -> EpBunch ?\n",
      "\n",
      "**Answer:** One can get demented trying to subclass from dict. This is pretty tricky coding and testing-debugging is difficult, since we are overriding built-in functions of dict. When you make mistakes there, the subclassed dict just stops working, or does very strange things. So I built it in a carefull and incremental way, fully testing before subclassing again. Each subclass implements some functionality and the next one implements more.\n",
      "\n",
      "**EpBunch** is described in more detail in the next section"
     ]
    }
   ],
   "metadata": {}
  }
 ]
}