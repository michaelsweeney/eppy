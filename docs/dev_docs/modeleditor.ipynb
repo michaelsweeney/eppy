{
 "metadata": {
  "name": ""
 },
 "nbformat": 3,
 "nbformat_minor": 0,
 "worksheets": [
  {
   "cells": [
    {
     "cell_type": "heading",
     "level": 1,
     "metadata": {},
     "source": [
      "IDF in modeleditor"
     ]
    },
    {
     "cell_type": "markdown",
     "metadata": {},
     "source": [
      "The previous section talks about EpBunch, which deals with a single object from Energyplus. Here we put all the pieces together so that we have the entire **IDF** file"
     ]
    },
    {
     "cell_type": "heading",
     "level": 2,
     "metadata": {},
     "source": [
      "Class IDF"
     ]
    },
    {
     "cell_type": "markdown",
     "metadata": {},
     "source": [
      "IDF0 is the first class that was written. As the code was refined, it was further refined to by subclassing to IDF1, IDF2, IDF3. Finally the following was set as IDF = IDF3"
     ]
    },
    {
     "cell_type": "heading",
     "level": 2,
     "metadata": {},
     "source": [
      "Class IDF0"
     ]
    },
    {
     "cell_type": "markdown",
     "metadata": {},
     "source": [
      "Some important methods in IDF0"
     ]
    },
    {
     "cell_type": "heading",
     "level": 3,
     "metadata": {},
     "source": [
      "IDF0.setiddname"
     ]
    },
    {
     "cell_type": "markdown",
     "metadata": {},
     "source": [
      "This method has a decorator `@classmethod`. This decorator makes the method a class method. From a stackoverflow comment, I found a brief description of when this should be used.\n",
      "\n",
      "`\"Class methods are essential when you are doing set-up or computation that precedes the creation of an actual instance, because until the instance exists you obviously cannot use the instance as the dispatch point for your method calls\"`\n",
      "\n",
      "Having said that, I am outside my comfort zone on trying to explain this in any depth. I will simply explain what I am doing with this here. Below is a brief explanation intent.\n",
      "\n",
      "- the idd file is a very large file. There is a large overhead in opening more than one idd file.\n",
      "- A design decision was made to use only one idd file to be used in a script. \n",
      "- This means that you cannot open two idf files that are of different version (meaning they will use different idd files)\n",
      "- You can open any number of idf file as long as they are of the same version (meaing, the use the same idd file)\n",
      "\n",
      "The class method allows us to achieve the objective:\n",
      "\n",
      "- The class method 'setiddname', allows us to set the name of the idd file, before creating an instance of IDF. It is set by the statement `IDF.setiddname(iddfilename)`\n",
      "- There are other class methods that make sure that this idd name cannot be changed.\n",
      "- An instance of the class IDF is created using the statement `idf = IDF(idffilename)`. This can be done multiple times, creating multiple instances and they will all use the same idd file"
     ]
    },
    {
     "cell_type": "heading",
     "level": 3,
     "metadata": {},
     "source": [
      "IDF0.`__init__`"
     ]
    },
    {
     "cell_type": "markdown",
     "metadata": {},
     "source": [
      "IDF is initialized by passing it the idf file name. I would look like this:"
     ]
    },
    {
     "cell_type": "raw",
     "metadata": {},
     "source": [
      "    idf1 = IDF(filename) # filename can be a file name, file handle or an StringIO"
     ]
    },
    {
     "cell_type": "markdown",
     "metadata": {},
     "source": [
      "- Once the class is initialized, it will read the idf file. \n",
      "- If this the first time the class is inititalized, the idd file set by `setiddname()` will be read too.\n",
      "- the idd file is read only once and then same copy is used."
     ]
    },
    {
     "cell_type": "heading",
     "level": 3,
     "metadata": {},
     "source": [
      "IDF0.read"
     ]
    },
    {
     "cell_type": "markdown",
     "metadata": {},
     "source": [
      "The read function is called when the class IDF is initialized. The read function calls routines from the original EPlusInterface program to do the actual read. The read get the values for the following variables:\n",
      "\n",
      "- idfobjects\n",
      "- model.dt\n",
      "- model.dtls\n",
      "- idd_info\n",
      "\n",
      "The functions within EPlusInterface are not documented here. I wrote them in 2004 and I have no idea how I did them. they have been working really well with some minor updates. I don't intent to poke at that code yet."
     ]
    },
    {
     "cell_type": "heading",
     "level": 2,
     "metadata": {},
     "source": [
      "Other IDF methods"
     ]
    },
    {
     "cell_type": "markdown",
     "metadata": {},
     "source": [
      "The other functions in IDF0, IDF1, IDF2 and IDF3 not too complicated. It should be possible to understand them by reading the code. \n",
      "\n",
      "Sometime in the future, these functions will be documented later in more detail"
     ]
    }
   ],
   "metadata": {}
  }
 ]
}