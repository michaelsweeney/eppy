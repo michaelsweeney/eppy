{
 "cells": [
  {
   "cell_type": "code",
   "execution_count": 1,
   "metadata": {},
   "outputs": [
    {
     "data": {
      "text/plain": [
       "dict"
      ]
     },
     "execution_count": 1,
     "metadata": {},
     "output_type": "execute_result"
    }
   ],
   "source": [
    "import json\n",
    "from collections import OrderedDict\n",
    "\n",
    "# data = json.loads('{\"foo\":1, \"bar\": 2}', object_pairs_hook=OrderedDict)\n",
    "fname = \"/Applications/EnergyPlus-8-9-0/Energy+.schema.epJSON\"\n",
    "epjs = json.load(open(fname, 'r'))\n",
    "# epjs = json.load(open(fname, 'r'), object_pairs_hook=OrderedDict)\n",
    "prop = epjs[u'properties']\n",
    "type(prop)"
   ]
  },
  {
   "cell_type": "code",
   "execution_count": 2,
   "metadata": {},
   "outputs": [
    {
     "name": "stdout",
     "output_type": "stream",
     "text": [
      "[u'name', u'format', u'memo', u'patternProperties', u'legacy_idd', u'type']\n"
     ]
    }
   ],
   "source": [
    "bldg = prop[u'Zone']\n",
    "print bldg.keys()"
   ]
  },
  {
   "cell_type": "code",
   "execution_count": 118,
   "metadata": {},
   "outputs": [
    {
     "name": "stdout",
     "output_type": "stream",
     "text": [
      "{u'is_required': True, u'type': u'string', u'reference': [u'AirflowNetworkNodeAndZoneNames', u'OutFaceEnvNames', u'ZoneAndZoneListNames', u'ZoneNames']}\n"
     ]
    },
    {
     "ename": "KeyError",
     "evalue": "u'extensible_size'",
     "output_type": "error",
     "traceback": [
      "\u001b[0;31m---------------------------------------------------------------------------\u001b[0m",
      "\u001b[0;31mKeyError\u001b[0m                                  Traceback (most recent call last)",
      "\u001b[0;32m<ipython-input-118-c74768fb3be4>\u001b[0m in \u001b[0;36m<module>\u001b[0;34m()\u001b[0m\n\u001b[1;32m      1\u001b[0m \u001b[0;31m# print bldg[u'legacy_idd']\u001b[0m\u001b[0;34m\u001b[0m\u001b[0;34m\u001b[0m\u001b[0m\n\u001b[1;32m      2\u001b[0m \u001b[0;32mprint\u001b[0m \u001b[0mbldg\u001b[0m\u001b[0;34m[\u001b[0m\u001b[0;34mu'name'\u001b[0m\u001b[0;34m]\u001b[0m\u001b[0;34m\u001b[0m\u001b[0m\n\u001b[0;32m----> 3\u001b[0;31m \u001b[0;32mprint\u001b[0m \u001b[0mbldg\u001b[0m\u001b[0;34m[\u001b[0m\u001b[0;34mu'extensible_size'\u001b[0m\u001b[0;34m]\u001b[0m\u001b[0;34m\u001b[0m\u001b[0m\n\u001b[0m\u001b[1;32m      4\u001b[0m \u001b[0;31m# print bldg[u'memo']\u001b[0m\u001b[0;34m\u001b[0m\u001b[0;34m\u001b[0m\u001b[0m\n\u001b[1;32m      5\u001b[0m \u001b[0;31m# print bldg[u'patternProperties']\u001b[0m\u001b[0;34m\u001b[0m\u001b[0;34m\u001b[0m\u001b[0m\n",
      "\u001b[0;31mKeyError\u001b[0m: u'extensible_size'"
     ]
    }
   ],
   "source": [
    "# print bldg[u'legacy_idd']\n",
    "print bldg[u'name']\n",
    "print bldg[u'extensible_size']\n",
    "# print bldg[u'memo']\n",
    "# print bldg[u'patternProperties']\n",
    "# # print bldg[u'maxProperties']\n",
    "# print bldg[u'minProperties']\n",
    "print bldg[u'type']\n",
    "print bldg[u'min_fields']"
   ]
  },
  {
   "cell_type": "code",
   "execution_count": 119,
   "metadata": {},
   "outputs": [
    {
     "name": "stdout",
     "output_type": "stream",
     "text": [
      "{u'.*': {u'properties': {u'ceiling_height': {u'anyOf': [{u'type': u'number'},\n",
      "                                                        {u'enum': [u'',\n",
      "                                                                   u'Autocalculate'],\n",
      "                                                         u'type': u'string'}],\n",
      "                                             u'default': u'Autocalculate',\n",
      "                                             u'note': u'If this field is 0.0, negative or autocalculate, then the average height of the zone is automatically calculated and used in subsequent calculations. If this field is positive, then the number entered here will be used. Note that the Zone Ceiling Height is the distance from the Floor to the Ceiling in the Zone, not an absolute height from the ground.',\n",
      "                                             u'units': u'm'},\n",
      "                         u'direction_of_relative_north': {u'default': 0.0,\n",
      "                                                          u'type': u'number',\n",
      "                                                          u'units': u'deg'},\n",
      "                         u'floor_area': {u'anyOf': [{u'type': u'number'},\n",
      "                                                    {u'enum': [u'',\n",
      "                                                               u'Autocalculate'],\n",
      "                                                     u'type': u'string'}],\n",
      "                                         u'default': u'Autocalculate',\n",
      "                                         u'note': u'If this field is 0.0, negative or autocalculate, then the floor area of the zone is automatically calculated and used in subsequent calculations. If this field is positive, then the number entered here will be used.',\n",
      "                                         u'units': u'm2'},\n",
      "                         u'multiplier': {u'default': 1.0,\n",
      "                                         u'minimum': 1.0,\n",
      "                                         u'type': u'number'},\n",
      "                         u'part_of_total_floor_area': {u'default': u'Yes',\n",
      "                                                       u'enum': [u'',\n",
      "                                                                 u'No',\n",
      "                                                                 u'Yes'],\n",
      "                                                       u'type': u'string'},\n",
      "                         u'type': {u'default': 1.0,\n",
      "                                   u'maximum': 1.0,\n",
      "                                   u'minimum': 1.0,\n",
      "                                   u'type': u'number'},\n",
      "                         u'volume': {u'anyOf': [{u'type': u'number'},\n",
      "                                                {u'enum': [u'',\n",
      "                                                           u'Autocalculate'],\n",
      "                                                 u'type': u'string'}],\n",
      "                                     u'default': u'Autocalculate',\n",
      "                                     u'note': u'If this field is 0.0, negative or autocalculate, then the volume of the zone is automatically calculated and used in subsequent calculations. If this field is positive, then the number entered here will be used.',\n",
      "                                     u'units': u'm3'},\n",
      "                         u'x_origin': {u'default': 0.0,\n",
      "                                       u'type': u'number',\n",
      "                                       u'units': u'm'},\n",
      "                         u'y_origin': {u'default': 0.0,\n",
      "                                       u'type': u'number',\n",
      "                                       u'units': u'm'},\n",
      "                         u'z_origin': {u'default': 0.0,\n",
      "                                       u'type': u'number',\n",
      "                                       u'units': u'm'},\n",
      "                         u'zone_inside_convection_algorithm': {u'enum': [u'',\n",
      "                                                                         u'AdaptiveConvectionAlgorithm',\n",
      "                                                                         u'CeilingDiffuser',\n",
      "                                                                         u'Simple',\n",
      "                                                                         u'TARP',\n",
      "                                                                         u'TrombeWall'],\n",
      "                                                               u'note': u'Will default to same value as SurfaceConvectionAlgorithm:Inside object setting this field overrides the default SurfaceConvectionAlgorithm:Inside for this zone Simple = constant natural convection (ASHRAE) TARP = variable natural convection based on temperature difference (ASHRAE) CeilingDiffuser = ACH based forced and mixed convection correlations for ceiling diffuser configuration with simple natural convection limit AdaptiveConvectionAlgorithm = dynamic selection of convection models based on conditions TrombeWall = variable natural convection in an enclosed rectangular cavity',\n",
      "                                                               u'type': u'string'},\n",
      "                         u'zone_outside_convection_algorithm': {u'enum': [u'',\n",
      "                                                                          u'AdaptiveConvectionAlgorithm',\n",
      "                                                                          u'DOE-2',\n",
      "                                                                          u'MoWiTT',\n",
      "                                                                          u'SimpleCombined',\n",
      "                                                                          u'TARP'],\n",
      "                                                                u'note': u'Will default to same value as SurfaceConvectionAlgorithm:Outside object setting this field overrides the default SurfaceConvectionAlgorithm:Outside for this zone SimpleCombined = Combined radiation and convection coefficient using simple ASHRAE model TARP = correlation from models developed by ASHRAE, Walton, and Sparrow et. al. MoWiTT = correlation from measurements by Klems and Yazdanian for smooth surfaces DOE-2 = correlation from measurements by Klems and Yazdanian for rough surfaces AdaptiveConvectionAlgorithm = dynamic selection of correlations based on conditions',\n",
      "                                                                u'type': u'string'}},\n",
      "         u'type': u'object'}}\n"
     ]
    }
   ],
   "source": [
    "from pprint import pprint\n",
    "pprint(bldg[u'patternProperties'])"
   ]
  },
  {
   "cell_type": "code",
   "execution_count": 104,
   "metadata": {},
   "outputs": [
    {
     "name": "stdout",
     "output_type": "stream",
     "text": [
      "[u'.*']\n"
     ]
    }
   ],
   "source": [
    "print bldg[u'patternProperties'].keys()"
   ]
  },
  {
   "cell_type": "code",
   "execution_count": 105,
   "metadata": {},
   "outputs": [
    {
     "name": "stdout",
     "output_type": "stream",
     "text": [
      "[u'type', u'properties']\n"
     ]
    }
   ],
   "source": [
    "bld = bldg[u'patternProperties'][u'.*']\n",
    "print bld.keys()"
   ]
  },
  {
   "cell_type": "code",
   "execution_count": 106,
   "metadata": {},
   "outputs": [
    {
     "data": {
      "text/plain": [
       "u'object'"
      ]
     },
     "execution_count": 106,
     "metadata": {},
     "output_type": "execute_result"
    }
   ],
   "source": [
    "bld[u'type']"
   ]
  },
  {
   "cell_type": "code",
   "execution_count": 107,
   "metadata": {},
   "outputs": [
    {
     "data": {
      "text/plain": [
       "{u'data': {u'items': {u'properties': {u'field': {u'anyOf': [{u'type': u'number'},\n",
       "      {u'type': u'string'}]}},\n",
       "   u'type': u'object'},\n",
       "  u'type': u'array'},\n",
       " u'schedule_type_limits_name': {u'data_type': u'object_list',\n",
       "  u'object_list': [u'ScheduleTypeLimitsNames'],\n",
       "  u'type': u'string'}}"
      ]
     },
     "execution_count": 107,
     "metadata": {},
     "output_type": "execute_result"
    }
   ],
   "source": [
    "bld[u'properties']"
   ]
  },
  {
   "cell_type": "code",
   "execution_count": 108,
   "metadata": {},
   "outputs": [
    {
     "data": {
      "text/plain": [
       "['__class__',\n",
       " '__cmp__',\n",
       " '__contains__',\n",
       " '__delattr__',\n",
       " '__delitem__',\n",
       " '__doc__',\n",
       " '__eq__',\n",
       " '__format__',\n",
       " '__ge__',\n",
       " '__getattribute__',\n",
       " '__getitem__',\n",
       " '__gt__',\n",
       " '__hash__',\n",
       " '__init__',\n",
       " '__iter__',\n",
       " '__le__',\n",
       " '__len__',\n",
       " '__lt__',\n",
       " '__ne__',\n",
       " '__new__',\n",
       " '__reduce__',\n",
       " '__reduce_ex__',\n",
       " '__repr__',\n",
       " '__setattr__',\n",
       " '__setitem__',\n",
       " '__sizeof__',\n",
       " '__str__',\n",
       " '__subclasshook__',\n",
       " 'clear',\n",
       " 'copy',\n",
       " 'fromkeys',\n",
       " 'get',\n",
       " 'has_key',\n",
       " 'items',\n",
       " 'iteritems',\n",
       " 'iterkeys',\n",
       " 'itervalues',\n",
       " 'keys',\n",
       " 'pop',\n",
       " 'popitem',\n",
       " 'setdefault',\n",
       " 'update',\n",
       " 'values',\n",
       " 'viewitems',\n",
       " 'viewkeys',\n",
       " 'viewvalues']"
      ]
     },
     "execution_count": 108,
     "metadata": {},
     "output_type": "execute_result"
    }
   ],
   "source": [
    "dir(bld[u'properties'])"
   ]
  },
  {
   "cell_type": "code",
   "execution_count": 109,
   "metadata": {},
   "outputs": [],
   "source": [
    "b = bld[u'properties']\n",
    "od = b.iterkeys()"
   ]
  },
  {
   "cell_type": "code",
   "execution_count": 110,
   "metadata": {},
   "outputs": [
    {
     "data": {
      "text/plain": [
       "[u'schedule_type_limits_name', u'data']"
      ]
     },
     "execution_count": 110,
     "metadata": {},
     "output_type": "execute_result"
    }
   ],
   "source": [
    "[key for key in b]"
   ]
  },
  {
   "cell_type": "code",
   "execution_count": 111,
   "metadata": {},
   "outputs": [
    {
     "data": {
      "text/plain": [
       "<function fromkeys>"
      ]
     },
     "execution_count": 111,
     "metadata": {},
     "output_type": "execute_result"
    }
   ],
   "source": [
    "bld[u'properties'].fromkeys"
   ]
  },
  {
   "cell_type": "code",
   "execution_count": 112,
   "metadata": {},
   "outputs": [
    {
     "ename": "AttributeError",
     "evalue": "'dict' object has no attribute 'formkeys'",
     "output_type": "error",
     "traceback": [
      "\u001b[0;31m---------------------------------------------------------------------------\u001b[0m",
      "\u001b[0;31mAttributeError\u001b[0m                            Traceback (most recent call last)",
      "\u001b[0;32m<ipython-input-112-b89a43653de8>\u001b[0m in \u001b[0;36m<module>\u001b[0;34m()\u001b[0m\n\u001b[0;32m----> 1\u001b[0;31m \u001b[0mbld\u001b[0m\u001b[0;34m[\u001b[0m\u001b[0;34mu'properties'\u001b[0m\u001b[0;34m]\u001b[0m\u001b[0;34m.\u001b[0m\u001b[0mformkeys\u001b[0m\u001b[0;34m\u001b[0m\u001b[0m\n\u001b[0m",
      "\u001b[0;31mAttributeError\u001b[0m: 'dict' object has no attribute 'formkeys'"
     ]
    }
   ],
   "source": [
    "bld[u'properties'].formkeys"
   ]
  },
  {
   "cell_type": "code",
   "execution_count": 113,
   "metadata": {},
   "outputs": [
    {
     "ename": "AttributeError",
     "evalue": "'list' object has no attribute 'fromkeys'",
     "output_type": "error",
     "traceback": [
      "\u001b[0;31m---------------------------------------------------------------------------\u001b[0m",
      "\u001b[0;31mAttributeError\u001b[0m                            Traceback (most recent call last)",
      "\u001b[0;32m<ipython-input-113-fe5b3ce6ca61>\u001b[0m in \u001b[0;36m<module>\u001b[0;34m()\u001b[0m\n\u001b[0;32m----> 1\u001b[0;31m \u001b[0mdir\u001b[0m\u001b[0;34m(\u001b[0m\u001b[0mbld\u001b[0m\u001b[0;34m[\u001b[0m\u001b[0;34mu'properties'\u001b[0m\u001b[0;34m]\u001b[0m\u001b[0;34m)\u001b[0m\u001b[0;34m.\u001b[0m\u001b[0mfromkeys\u001b[0m\u001b[0;34m\u001b[0m\u001b[0m\n\u001b[0m",
      "\u001b[0;31mAttributeError\u001b[0m: 'list' object has no attribute 'fromkeys'"
     ]
    }
   ],
   "source": [
    "dir(bld[u'properties']).fromkeys"
   ]
  },
  {
   "cell_type": "code",
   "execution_count": 114,
   "metadata": {},
   "outputs": [
    {
     "name": "stdout",
     "output_type": "stream",
     "text": [
      "[u'schedule_type_limits_name', u'data']\n"
     ]
    }
   ],
   "source": [
    "pprint(bld[u'properties'].keys())"
   ]
  },
  {
   "cell_type": "code",
   "execution_count": 115,
   "metadata": {},
   "outputs": [
    {
     "ename": "KeyError",
     "evalue": "u'north_axis'",
     "output_type": "error",
     "traceback": [
      "\u001b[0;31m---------------------------------------------------------------------------\u001b[0m",
      "\u001b[0;31mKeyError\u001b[0m                                  Traceback (most recent call last)",
      "\u001b[0;32m<ipython-input-115-3724bcfd8318>\u001b[0m in \u001b[0;36m<module>\u001b[0;34m()\u001b[0m\n\u001b[0;32m----> 1\u001b[0;31m \u001b[0mpprint\u001b[0m\u001b[0;34m(\u001b[0m\u001b[0mbld\u001b[0m\u001b[0;34m[\u001b[0m\u001b[0;34mu'properties'\u001b[0m\u001b[0;34m]\u001b[0m\u001b[0;34m[\u001b[0m\u001b[0;34mu'north_axis'\u001b[0m\u001b[0;34m]\u001b[0m\u001b[0;34m)\u001b[0m\u001b[0;34m\u001b[0m\u001b[0m\n\u001b[0m",
      "\u001b[0;31mKeyError\u001b[0m: u'north_axis'"
     ]
    }
   ],
   "source": [
    "pprint(bld[u'properties'][u'north_axis'])"
   ]
  },
  {
   "cell_type": "code",
   "execution_count": 116,
   "metadata": {
    "collapsed": true
   },
   "outputs": [],
   "source": [
    "s = ''\n",
    "s.find?"
   ]
  },
  {
   "cell_type": "code",
   "execution_count": null,
   "metadata": {
    "collapsed": true
   },
   "outputs": [],
   "source": []
  },
  {
   "cell_type": "code",
   "execution_count": null,
   "metadata": {
    "collapsed": true
   },
   "outputs": [],
   "source": []
  }
 ],
 "metadata": {
  "kernelspec": {
   "display_name": "Python 2",
   "language": "python",
   "name": "python2"
  },
  "language_info": {
   "codemirror_mode": {
    "name": "ipython",
    "version": 2
   },
   "file_extension": ".py",
   "mimetype": "text/x-python",
   "name": "python",
   "nbconvert_exporter": "python",
   "pygments_lexer": "ipython2",
   "version": "2.7.10"
  }
 },
 "nbformat": 4,
 "nbformat_minor": 1
}
