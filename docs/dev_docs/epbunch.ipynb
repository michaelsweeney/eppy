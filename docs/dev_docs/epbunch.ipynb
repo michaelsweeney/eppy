{
 "metadata": {
  "name": ""
 },
 "nbformat": 3,
 "nbformat_minor": 0,
 "worksheets": [
  {
   "cells": [
    {
     "cell_type": "heading",
     "level": 1,
     "metadata": {},
     "source": [
      "EpBunch"
     ]
    },
    {
     "cell_type": "markdown",
     "metadata": {},
     "source": [
      ":Author: Santosh Philip. "
     ]
    },
    {
     "cell_type": "markdown",
     "metadata": {},
     "source": [
      "EpBunch is at the heart of what makes eppy easy to use. Specifically Epbunch is what allows us to use the syntax `building.Name` and `building.North_Axis`. Some advanced coding had to be done to make this happen. Coding that would be easy for professional programmers, but not for us ordinary folk :-(\n",
      "\n",
      "Most of us who are going to be coding eppy are not professional programmers. I was completely out of my depth when I did this coding. I had the code reviewed by programmers who do this for a living (at python meetups in the Bay Area). In their opinion, I was not doing anything fundamentally wrong.\n",
      "\n",
      "Below is a fairly long explanation, to ease you into the code. Read through the whole thing without trying to understand every detail, just getting a birds eye veiw of the explanation. Then read it again, you will start to grok some of the details. All the code here is working code, so you can experiment with it."
     ]
    },
    {
     "cell_type": "heading",
     "level": 2,
     "metadata": {},
     "source": [
      "Magic Methods (Dunders) of Python"
     ]
    },
    {
     "cell_type": "markdown",
     "metadata": {},
     "source": [
      "To understand how EpBunch or Bunch is coded, one has to have an understanding of the magic methods of Python. (For a background on magic methods, take a look at http://www.rafekettler.com/magicmethods.html) Let us dive straight into this with some examples"
     ]
    },
    {
     "cell_type": "code",
     "collapsed": false,
     "input": [
      "adict = dict(a=10, b=20) # create a dictionary\n",
      "print adict\n",
      "print adict['a']\n",
      "print adict['b']"
     ],
     "language": "python",
     "metadata": {},
     "outputs": [
      {
       "output_type": "stream",
       "stream": "stdout",
       "text": [
        "{'a': 10, 'b': 20}\n",
        "10\n",
        "20\n"
       ]
      }
     ],
     "prompt_number": 1
    },
    {
     "cell_type": "markdown",
     "metadata": {},
     "source": [
      "What happens when we say d['a'] ?\n",
      "\n",
      "This is where the magic methods come in. Magic methods are methods that work behind the scenes and do some magic. So when we say d['a'], The dict is calling the method `__getitem__('a')`. \n",
      "\n",
      "Magic methods have a *double underscore* \"`__`\", called **dunder** methods for short\n",
      "\n",
      "Let us override that method and see what happens."
     ]
    },
    {
     "cell_type": "code",
     "collapsed": false,
     "input": [
      "class Funnydict(dict): # we are subclassing dict here\n",
      "    def __getitem__(self, key):\n",
      "        value = super(Funnydict, self).__getitem__(key)\n",
      "        return \"key = %s, value = %s\" % (key, value)\n",
      "\n",
      "funny = Funnydict(dict(a=10, b=20)) \n",
      "print funny"
     ],
     "language": "python",
     "metadata": {},
     "outputs": [
      {
       "output_type": "stream",
       "stream": "stdout",
       "text": [
        "{'a': 10, 'b': 20}\n"
       ]
      }
     ],
     "prompt_number": 1
    },
    {
     "cell_type": "markdown",
     "metadata": {},
     "source": [
      "The print worked as expected. Now let us try to print the values"
     ]
    },
    {
     "cell_type": "code",
     "collapsed": false,
     "input": [
      "print funny['a']\n",
      "print funny['b']"
     ],
     "language": "python",
     "metadata": {},
     "outputs": [
      {
       "output_type": "stream",
       "stream": "stdout",
       "text": [
        "key = a, value = 10\n",
        "key = b, value = 20\n"
       ]
      }
     ],
     "prompt_number": 3
    },
    {
     "cell_type": "markdown",
     "metadata": {},
     "source": [
      "Now that worked very differently from a dict \n",
      "\n",
      "So it is true, funny['a'] does call `__getitem__()` that we just wrote\n",
      "\n",
      "Let us go back to the variable **adict**"
     ]
    },
    {
     "cell_type": "code",
     "collapsed": false,
     "input": [
      "# to jog our memory\n",
      "print adict"
     ],
     "language": "python",
     "metadata": {},
     "outputs": [
      {
       "output_type": "stream",
       "stream": "stdout",
       "text": [
        "{'a': 10, 'b': 20}\n"
       ]
      }
     ],
     "prompt_number": 4
    },
    {
     "cell_type": "code",
     "collapsed": false,
     "input": [
      "# this should not work\n",
      "print adict.a"
     ],
     "language": "python",
     "metadata": {},
     "outputs": [
      {
       "ename": "AttributeError",
       "evalue": "'dict' object has no attribute 'a'",
       "output_type": "pyerr",
       "traceback": [
        "\u001b[0;31m---------------------------------------------------------------------------\u001b[0m\n\u001b[0;31mAttributeError\u001b[0m                            Traceback (most recent call last)",
        "\u001b[0;32m<ipython-input-5-8aa7211fcb66>\u001b[0m in \u001b[0;36m<module>\u001b[0;34m()\u001b[0m\n\u001b[1;32m      1\u001b[0m \u001b[0;31m# this should not work\u001b[0m\u001b[0;34m\u001b[0m\u001b[0;34m\u001b[0m\u001b[0m\n\u001b[0;32m----> 2\u001b[0;31m \u001b[0;32mprint\u001b[0m \u001b[0madict\u001b[0m\u001b[0;34m.\u001b[0m\u001b[0ma\u001b[0m\u001b[0;34m\u001b[0m\u001b[0m\n\u001b[0m",
        "\u001b[0;31mAttributeError\u001b[0m: 'dict' object has no attribute 'a'"
       ]
      }
     ],
     "prompt_number": 5
    },
    {
     "cell_type": "markdown",
     "metadata": {},
     "source": [
      "What method gets called when we say **adict.a** ?\n",
      "\n",
      "The magic method here is `__getattr__`() and `__setattr__()`. Shall we override them and see if we can get the dot notation to work ?"
     ]
    },
    {
     "cell_type": "code",
     "collapsed": false,
     "input": [
      "class Like_bunch(dict):\n",
      "    def __getattr__(self, name):\n",
      "        return self[name]\n",
      "    def __setattr__(self, name, value):\n",
      "        self[name] = value\n",
      "\n",
      "lbunch = Like_bunch(dict(a=10, b=20))\n",
      "print lbunch"
     ],
     "language": "python",
     "metadata": {},
     "outputs": [
      {
       "output_type": "stream",
       "stream": "stdout",
       "text": [
        "{'a': 10, 'b': 20}\n"
       ]
      }
     ],
     "prompt_number": 6
    },
    {
     "cell_type": "markdown",
     "metadata": {},
     "source": [
      "Works like a dict so far. How about **lbunch.a** ?"
     ]
    },
    {
     "cell_type": "code",
     "collapsed": false,
     "input": [
      "print lbunch.a\n",
      "print lbunch.b"
     ],
     "language": "python",
     "metadata": {},
     "outputs": [
      {
       "output_type": "stream",
       "stream": "stdout",
       "text": [
        "10\n",
        "20\n"
       ]
      }
     ],
     "prompt_number": 7
    },
    {
     "cell_type": "markdown",
     "metadata": {},
     "source": [
      "Yipeee !!! I works\n",
      "\n",
      "How about `lbunch.nota = 100`"
     ]
    },
    {
     "cell_type": "code",
     "collapsed": false,
     "input": [
      "lbunch.anot = 100\n",
      "print lbunch.anot"
     ],
     "language": "python",
     "metadata": {},
     "outputs": [
      {
       "output_type": "stream",
       "stream": "stdout",
       "text": [
        "100\n"
       ]
      }
     ],
     "prompt_number": 8
    },
    {
     "cell_type": "markdown",
     "metadata": {},
     "source": [
      "All good here. But don't trust the code above too much. It was simply done as a demonstration of **dunder** methods and is not fully tested.\n",
      "\n",
      "Eppy uses the bunch library to do something similar. You can read more about the bunch library in the previous section."
     ]
    },
    {
     "cell_type": "heading",
     "level": 2,
     "metadata": {},
     "source": [
      "Open an IDF file"
     ]
    },
    {
     "cell_type": "markdown",
     "metadata": {},
     "source": [
      "Once again let us open a small idf file to test."
     ]
    },
    {
     "cell_type": "code",
     "collapsed": false,
     "input": [
      "# you would normaly install eppy by doing\n",
      "# python setup.py install\n",
      "# or\n",
      "# pip install eppy\n",
      "# or\n",
      "# easy_install eppy\n",
      "\n",
      "# if you have not done so, uncomment the following three lines\n",
      "import sys\n",
      "# pathnameto_eppy = 'c:/eppy'\n",
      "pathnameto_eppy = '../../../'\n",
      "sys.path.append(pathnameto_eppy)"
     ],
     "language": "python",
     "metadata": {},
     "outputs": [],
     "prompt_number": 9
    },
    {
     "cell_type": "code",
     "collapsed": false,
     "input": [
      "from eppy import modeleditor\n",
      "from eppy.modeleditor import IDF\n",
      "iddfile = \"../../../eppy/resources/iddfiles/Energy+V7_2_0.idd\"\n",
      "fname1 = \"../../../eppy/resources/idffiles/V_7_2/dev1.idf\"\n",
      "\n",
      "IDF.setiddname(iddfile)\n",
      "idf1 = IDF(fname1)\n",
      "idf1.printidf()"
     ],
     "language": "python",
     "metadata": {},
     "outputs": [
      {
       "output_type": "stream",
       "stream": "stdout",
       "text": [
        "\n",
        "VERSION,                  \n",
        "    7.3;                      !- Version Identifier\n",
        "\n",
        "SIMULATIONCONTROL,        \n",
        "    Yes,                      !- Do Zone Sizing Calculation\n",
        "    Yes,                      !- Do System Sizing Calculation\n",
        "    Yes,                      !- Do Plant Sizing Calculation\n",
        "    No,                       !- Run Simulation for Sizing Periods\n",
        "    Yes;                      !- Run Simulation for Weather File Run Periods\n",
        "\n",
        "BUILDING,                 \n",
        "    Empire State Building,    !- Name\n",
        "    30.0,                     !- North Axis\n",
        "    City,                     !- Terrain\n",
        "    0.04,                     !- Loads Convergence Tolerance Value\n",
        "    0.4,                      !- Temperature Convergence Tolerance Value\n",
        "    FullExterior,             !- Solar Distribution\n",
        "    25,                       !- Maximum Number of Warmup Days\n",
        "    6;                        !- Minimum Number of Warmup Days\n",
        "\n",
        "SITE:LOCATION,            \n",
        "    CHICAGO_IL_USA TMY2-94846,    !- Name\n",
        "    41.78,                    !- Latitude\n",
        "    -87.75,                   !- Longitude\n",
        "    -6.0,                     !- Time Zone\n",
        "    190.0;                    !- Elevation\n",
        "\n",
        "MATERIAL:AIRGAP,          \n",
        "    F04 Wall air space resistance,    !- Name\n",
        "    0.15;                     !- Thermal Resistance\n",
        "\n",
        "MATERIAL:AIRGAP,          \n",
        "    F05 Ceiling air space resistance,    !- Name\n",
        "    0.18;                     !- Thermal Resistance\n",
        "\n"
       ]
      }
     ],
     "prompt_number": 10
    },
    {
     "cell_type": "code",
     "collapsed": false,
     "input": [
      "dtls = idf1.model.dtls\n",
      "dt = idf1.model.dt\n",
      "idd_info = idf1.idd_info"
     ],
     "language": "python",
     "metadata": {},
     "outputs": [],
     "prompt_number": 11
    },
    {
     "cell_type": "code",
     "collapsed": false,
     "input": [
      "dt['MATERIAL:AIRGAP']"
     ],
     "language": "python",
     "metadata": {},
     "outputs": [
      {
       "metadata": {},
       "output_type": "pyout",
       "prompt_number": 12,
       "text": [
        "[['MATERIAL:AIRGAP', 'F04 Wall air space resistance', 0.15],\n",
        " ['MATERIAL:AIRGAP', 'F05 Ceiling air space resistance', 0.18]]"
       ]
      }
     ],
     "prompt_number": 12
    },
    {
     "cell_type": "code",
     "collapsed": false,
     "input": [
      "obj_i = dtls.index('MATERIAL:AIRGAP')\n",
      "obj_idd = idd_info[obj_i]\n",
      "obj_idd"
     ],
     "language": "python",
     "metadata": {},
     "outputs": [
      {
       "metadata": {},
       "output_type": "pyout",
       "prompt_number": 13,
       "text": [
        "[{'memo': ['Air Space in Opaque Construction'], 'min-fields': ['2']},\n",
        " {'field': ['Name'],\n",
        "  'reference': ['MaterialName'],\n",
        "  'required-field': [''],\n",
        "  'type': ['alpha']},\n",
        " {'field': ['Thermal Resistance'],\n",
        "  'minimum>': ['0'],\n",
        "  'type': ['real'],\n",
        "  'units': ['m2-K/W']}]"
       ]
      }
     ],
     "prompt_number": 13
    },
    {
     "cell_type": "markdown",
     "metadata": {},
     "source": [
      "For the rest of this section let us look at only one airgap object"
     ]
    },
    {
     "cell_type": "code",
     "collapsed": false,
     "input": [
      "airgap = dt['MATERIAL:AIRGAP'][0]\n",
      "airgap"
     ],
     "language": "python",
     "metadata": {},
     "outputs": [
      {
       "metadata": {},
       "output_type": "pyout",
       "prompt_number": 14,
       "text": [
        "['MATERIAL:AIRGAP', 'F04 Wall air space resistance', 0.15]"
       ]
      }
     ],
     "prompt_number": 14
    },
    {
     "cell_type": "heading",
     "level": 2,
     "metadata": {},
     "source": [
      "Subclassing of Bunch"
     ]
    },
    {
     "cell_type": "markdown",
     "metadata": {},
     "source": [
      "Let us review our knowledge of bunch"
     ]
    },
    {
     "cell_type": "code",
     "collapsed": false,
     "input": [
      "from bunch import Bunch\n",
      "adict = {'a':1, 'b':2, 'c':3}\n",
      "bunchdict = Bunch(adict)\n",
      "print bunchdict\n",
      "print bunchdict.a\n",
      "print bunchdict.b\n",
      "print bunchdict.c"
     ],
     "language": "python",
     "metadata": {},
     "outputs": [
      {
       "output_type": "stream",
       "stream": "stdout",
       "text": [
        "Bunch(a=1, b=2, c=3)\n",
        "1\n",
        "2\n",
        "3\n"
       ]
      }
     ],
     "prompt_number": 15
    },
    {
     "cell_type": "markdown",
     "metadata": {},
     "source": [
      "Bunch lets us use dot notation on the keys of a dictionary. We need to find a way of making `airgap.Name` work. This is not straightforward because, airgap is **list** and Bunch works on **dicts**. It would be easy if airgap was in the form `{'Name' : 'F04 Wall air space resistance', 'Thermal Resistance' : 0.15}`. \n",
      "\n",
      "The rest of this section is a simplified version of how EpBunch works. "
     ]
    },
    {
     "cell_type": "code",
     "collapsed": false,
     "input": [
      "class EpBunch(Bunch):\n",
      "    def __init__(self, obj, objls, objidd, *args, **kwargs):\n",
      "        super(EpBunch, self).__init__(*args, **kwargs)\n",
      "        self.obj = obj\n",
      "        self.objls = objls\n",
      "        self.objidd = objidd"
     ],
     "language": "python",
     "metadata": {},
     "outputs": [],
     "prompt_number": 16
    },
    {
     "cell_type": "markdown",
     "metadata": {},
     "source": [
      "The above code shows how EpBunch is initialized. Three variables are passed to EpBunch to initialize it. They are `obj, objls, objidd`."
     ]
    },
    {
     "cell_type": "code",
     "collapsed": false,
     "input": [
      "obj = airgap\n",
      "objls = ['key', 'Name', 'Thermal_Resistance'] # a function extracts this from idf1.idd_info\n",
      "objidd = obj_idd\n",
      "#\n",
      "print obj\n",
      "print objls\n",
      "# let us ignore objidd for now"
     ],
     "language": "python",
     "metadata": {},
     "outputs": [
      {
       "output_type": "stream",
       "stream": "stdout",
       "text": [
        "['MATERIAL:AIRGAP', 'F04 Wall air space resistance', 0.15]\n",
        "['key', 'Name', 'Thermal_Resistance']\n"
       ]
      }
     ],
     "prompt_number": 17
    },
    {
     "cell_type": "markdown",
     "metadata": {},
     "source": [
      "Now we override `__setattr__()` and `__getattr__()` in the following way"
     ]
    },
    {
     "cell_type": "code",
     "collapsed": false,
     "input": [
      "class EpBunch(Bunch):\n",
      "    def __init__(self, obj, objls, objidd, *args, **kwargs):\n",
      "        super(EpBunch, self).__init__(*args, **kwargs)\n",
      "        self.obj = obj\n",
      "        self.objls = objls\n",
      "        self.objidd = objidd\n",
      "        \n",
      "    def __getattr__(self, name):\n",
      "        if name in ('obj', 'objls', 'objidd'):\n",
      "            return super(EpBunch, self).__getattr__(name)\n",
      "        i = self.objls.index(name)\n",
      "        return self.obj[i]\n",
      "\n",
      "    def __setattr__(self, name, value):\n",
      "        if name in ('obj', 'objls', 'objidd'):\n",
      "            super(EpBunch, self).__setattr__(name, value)\n",
      "            return None\n",
      "        i = self.objls.index(name)\n",
      "        self.obj[i] = value\n"
     ],
     "language": "python",
     "metadata": {},
     "outputs": [],
     "prompt_number": 18
    },
    {
     "cell_type": "code",
     "collapsed": false,
     "input": [
      "# Let us create a EpBunch object\n",
      "bunch_airgap = EpBunch(obj, objls, objidd)"
     ],
     "language": "python",
     "metadata": {},
     "outputs": [],
     "prompt_number": 19
    },
    {
     "cell_type": "raw",
     "metadata": {},
     "source": [
      "    # Use this table to see how __setattr__ and __getattr__ work in EpBunch\n",
      "\n",
      "    obj   = ['MATERIAL:AIRGAP', 'F04 Wall air space resistance', 0.15                ]\n",
      "    objls = ['key',             'Name',                         'Thermal_Resistance']\n",
      "    i     =   0                  1                               2"
     ]
    },
    {
     "cell_type": "code",
     "collapsed": false,
     "input": [
      "print bunch_airgap.Name\n",
      "print bunch_airgap.Thermal_Resistance"
     ],
     "language": "python",
     "metadata": {},
     "outputs": [
      {
       "output_type": "stream",
       "stream": "stdout",
       "text": [
        "F04 Wall air space resistance\n",
        "0.15\n"
       ]
      }
     ],
     "prompt_number": 20
    },
    {
     "cell_type": "code",
     "collapsed": false,
     "input": [
      "print bunch_airgap.obj"
     ],
     "language": "python",
     "metadata": {},
     "outputs": [
      {
       "output_type": "stream",
       "stream": "stdout",
       "text": [
        "['MATERIAL:AIRGAP', 'F04 Wall air space resistance', 0.15]\n"
       ]
      }
     ],
     "prompt_number": 21
    },
    {
     "cell_type": "markdown",
     "metadata": {},
     "source": [
      "Let us change some values using the dot notation"
     ]
    },
    {
     "cell_type": "code",
     "collapsed": false,
     "input": [
      "bunch_airgap.Name = 'Argon in gap'"
     ],
     "language": "python",
     "metadata": {},
     "outputs": [],
     "prompt_number": 22
    },
    {
     "cell_type": "code",
     "collapsed": false,
     "input": [
      "print bunch_airgap.Name"
     ],
     "language": "python",
     "metadata": {},
     "outputs": [
      {
       "output_type": "stream",
       "stream": "stdout",
       "text": [
        "Argon in gap\n"
       ]
      }
     ],
     "prompt_number": 23
    },
    {
     "cell_type": "code",
     "collapsed": false,
     "input": [
      "print bunch_airgap.obj"
     ],
     "language": "python",
     "metadata": {},
     "outputs": [
      {
       "output_type": "stream",
       "stream": "stdout",
       "text": [
        "['MATERIAL:AIRGAP', 'Argon in gap', 0.15]\n"
       ]
      }
     ],
     "prompt_number": 24
    },
    {
     "cell_type": "markdown",
     "metadata": {},
     "source": [
      "Using the dot notation the value is changed in the list\n",
      "\n",
      "Let us make sure it actually has done that."
     ]
    },
    {
     "cell_type": "code",
     "collapsed": false,
     "input": [
      "idf1.model.dt['MATERIAL:AIRGAP'][0]"
     ],
     "language": "python",
     "metadata": {},
     "outputs": [
      {
       "metadata": {},
       "output_type": "pyout",
       "prompt_number": 25,
       "text": [
        "['MATERIAL:AIRGAP', 'Argon in gap', 0.15]"
       ]
      }
     ],
     "prompt_number": 25
    },
    {
     "cell_type": "markdown",
     "metadata": {},
     "source": [
      "`EpBunch` acts as a wrapper around `idf1.model.dt['MATERIAL:AIRGAP'][0]`\n",
      "\n",
      "In other words `EpBunch` is just **Syntactic Sugar** for `idf1.model.dt['MATERIAL:AIRGAP'][0]`"
     ]
    },
    {
     "cell_type": "heading",
     "level": 2,
     "metadata": {},
     "source": [
      "Variables and Names in Python"
     ]
    },
    {
     "cell_type": "markdown",
     "metadata": {},
     "source": [
      "At this point your reaction may, \"I don't see how all those values in `idf1.model.dt` changed\". If such question arises in your mind, you need to read the following:\n",
      "\n",
      "- [Other languages have 'variables'](http://python.net/~goodger/projects/pycon/2007/idiomatic/handout.html#other-languages-have-variables)\n",
      "- [Python has 'names'](http://python.net/~goodger/projects/pycon/2007/idiomatic/handout.html#python-has-names)\n",
      "- Also see [Facts and myths about Python names and values](http://nedbatchelder.com/text/names.html)\n",
      "\n",
      "This is especially important if you are experienced in other languages, and you expect the behavior to be a little different. Actually follow and read those links in any case.\n"
     ]
    },
    {
     "cell_type": "heading",
     "level": 2,
     "metadata": {},
     "source": [
      "Continuing with EpBunch"
     ]
    },
    {
     "cell_type": "heading",
     "level": 3,
     "metadata": {},
     "source": [
      "EpBunch_1"
     ]
    },
    {
     "cell_type": "markdown",
     "metadata": {},
     "source": [
      "The code for EpBunch in the earlier section will work, but has been simplified for clarity. In file  `bunch_subclass.py` take a look at the class **EpBunch_1** . This class does the first override of `__setattr__` and `__getattr__`. You will see that the code is a little more involved, dealing with edge conditions and catching exceptions.\n",
      "\n",
      "**EpBunch_1** also defines `__repr__`. This lets you print EpBunch in a human readable format. Further research indicates that `__str__` should have been used to do this, not `__repr__` :-("
     ]
    },
    {
     "cell_type": "heading",
     "level": 3,
     "metadata": {},
     "source": [
      "EpBunch_2"
     ]
    },
    {
     "cell_type": "markdown",
     "metadata": {},
     "source": [
      "`EpBunch_2` is subclassed from `EpBunch_1`. \n",
      "\n",
      "It overrides `__setattr__` and `__getattr__` to add a small functionality that has not been documented or used. The idea was to give the ability to shorten field names with alias. So `building.Maximum_Number_of_Warmup_Days` could be made into `building.warmupdays`. \n",
      "\n",
      "I seemed like a good idea when I wrote it. Ignore it for now, although it may make a comeback :-)"
     ]
    },
    {
     "cell_type": "heading",
     "level": 3,
     "metadata": {},
     "source": [
      "EpBunch_3"
     ]
    },
    {
     "cell_type": "markdown",
     "metadata": {},
     "source": [
      "`EpBunch_3` is subclassed from `EpBunch_2`.\n",
      "\n",
      "EpBunch_3 adds the ability to add functions to EpBunch objects. This would allow the object to make calculations using data within the object. So `BuildingSurface:Detailed` object has all the geometry data of the object. The function 'area' will let us calculate the are of the object even though area is not a field in `BuildingSurface:Detailed`.\n",
      "\n",
      "So you can call `idf1.idfobjects[\"BuildingSurface:Detailed\"][0].area` and get the area of the surface.\n",
      "\n",
      "At the moment, the functions can use only data within the object for it's calculation. We need to extend this functionality so that calculations can be done using data outside the object. This would be useful in calculating the volume of a Zone. Such a calculation would need data from the surfaces that the aone refers to.\n"
     ]
    },
    {
     "cell_type": "heading",
     "level": 3,
     "metadata": {},
     "source": [
      "EpBunch_4"
     ]
    },
    {
     "cell_type": "markdown",
     "metadata": {},
     "source": [
      "`EpBunch_4` is subclassed from `EpBunch_3`.\n",
      "\n",
      "`EpBunch_4` overrides `_setitem__` and `__getitem__`. Right now `airgap.Name` works. This update allows `airgap[\"Name\"]` to work correctly too"
     ]
    },
    {
     "cell_type": "heading",
     "level": 3,
     "metadata": {},
     "source": [
      "EpBunch_5"
     ]
    },
    {
     "cell_type": "markdown",
     "metadata": {},
     "source": [
      "`EpBunch_5` is subclassed from `EpBunch_4`.\n",
      "\n",
      "`EpBunch_5` adds functions that allows you to call functions `getrange` and `checkrange` for a field\n"
     ]
    },
    {
     "cell_type": "heading",
     "level": 3,
     "metadata": {},
     "source": [
      "Finally EpBunch"
     ]
    },
    {
     "cell_type": "markdown",
     "metadata": {},
     "source": [
      "`EpBunch = EpBunch_5`\n",
      "\n",
      "Finally `EpBunch_5` is named as EpBunch. So the rest of the code uses EpBunch and in effect it uses `Epbunch_5`"
     ]
    }
   ],
   "metadata": {}
  }
 ]
}